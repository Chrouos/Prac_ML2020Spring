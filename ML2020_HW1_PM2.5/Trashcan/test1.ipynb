{
 "cells": [
  {
   "attachments": {},
   "cell_type": "markdown",
   "metadata": {},
   "source": [
    "# Task Description\n",
    "從行政院環境環保署空氣品質監測網下載的觀測的資料  \n",
    "**Expect: 實作 linear regression 預測出 PM2.5 的數值。**\n",
    "\n",
    "\n",
    "# Assignment Regulation\n",
    "+ hw1.sh\n",
    "  + 請手刻實作 linear regression，方法限使用 gradient descent。  \n",
    "  + 禁止使用 numpy.linalg.lstsq  \n",
    "+ hw1_best.sh\n",
    "  + 不限定作法，但套件規定仍必須遵照期初公告。\n",
    "\n",
    "https://www.youtube.com/watch?v=Ye018rCVvOo&ab_channel=Hung-yiLee  \n",
    "https://www.kaggle.com/competitions/ml2020spring-hw1/code"
   ]
  },
  {
   "cell_type": "code",
   "execution_count": 33,
   "metadata": {},
   "outputs": [],
   "source": [
    "import numpy as np \n",
    "import pandas as pd\n",
    "import seaborn as sns\n",
    "import seaborn.objects as so\n",
    "import plotly.express as px\n",
    "import matplotlib.pyplot as plt\n"
   ]
  },
  {
   "cell_type": "code",
   "execution_count": 34,
   "metadata": {},
   "outputs": [
    {
     "data": {
      "text/html": [
       "<div>\n",
       "<style scoped>\n",
       "    .dataframe tbody tr th:only-of-type {\n",
       "        vertical-align: middle;\n",
       "    }\n",
       "\n",
       "    .dataframe tbody tr th {\n",
       "        vertical-align: top;\n",
       "    }\n",
       "\n",
       "    .dataframe thead th {\n",
       "        text-align: right;\n",
       "    }\n",
       "</style>\n",
       "<table border=\"1\" class=\"dataframe\">\n",
       "  <thead>\n",
       "    <tr style=\"text-align: right;\">\n",
       "      <th></th>\n",
       "      <th>日期</th>\n",
       "      <th>測站</th>\n",
       "      <th>測項</th>\n",
       "      <th>0</th>\n",
       "      <th>1</th>\n",
       "      <th>2</th>\n",
       "      <th>3</th>\n",
       "      <th>4</th>\n",
       "      <th>5</th>\n",
       "      <th>6</th>\n",
       "      <th>...</th>\n",
       "      <th>14</th>\n",
       "      <th>15</th>\n",
       "      <th>16</th>\n",
       "      <th>17</th>\n",
       "      <th>18</th>\n",
       "      <th>19</th>\n",
       "      <th>20</th>\n",
       "      <th>21</th>\n",
       "      <th>22</th>\n",
       "      <th>23</th>\n",
       "    </tr>\n",
       "  </thead>\n",
       "  <tbody>\n",
       "    <tr>\n",
       "      <th>0</th>\n",
       "      <td>2014/1/1</td>\n",
       "      <td>豐原</td>\n",
       "      <td>AMB_TEMP</td>\n",
       "      <td>14</td>\n",
       "      <td>14</td>\n",
       "      <td>14</td>\n",
       "      <td>13</td>\n",
       "      <td>12</td>\n",
       "      <td>12</td>\n",
       "      <td>12</td>\n",
       "      <td>...</td>\n",
       "      <td>22</td>\n",
       "      <td>22</td>\n",
       "      <td>21</td>\n",
       "      <td>19</td>\n",
       "      <td>17</td>\n",
       "      <td>16</td>\n",
       "      <td>15</td>\n",
       "      <td>15</td>\n",
       "      <td>15</td>\n",
       "      <td>15</td>\n",
       "    </tr>\n",
       "    <tr>\n",
       "      <th>1</th>\n",
       "      <td>2014/1/1</td>\n",
       "      <td>豐原</td>\n",
       "      <td>CH4</td>\n",
       "      <td>1.8</td>\n",
       "      <td>1.8</td>\n",
       "      <td>1.8</td>\n",
       "      <td>1.8</td>\n",
       "      <td>1.8</td>\n",
       "      <td>1.8</td>\n",
       "      <td>1.8</td>\n",
       "      <td>...</td>\n",
       "      <td>1.8</td>\n",
       "      <td>1.8</td>\n",
       "      <td>1.8</td>\n",
       "      <td>1.8</td>\n",
       "      <td>1.8</td>\n",
       "      <td>1.8</td>\n",
       "      <td>1.8</td>\n",
       "      <td>1.8</td>\n",
       "      <td>1.8</td>\n",
       "      <td>1.8</td>\n",
       "    </tr>\n",
       "    <tr>\n",
       "      <th>2</th>\n",
       "      <td>2014/1/1</td>\n",
       "      <td>豐原</td>\n",
       "      <td>CO</td>\n",
       "      <td>0.51</td>\n",
       "      <td>0.41</td>\n",
       "      <td>0.39</td>\n",
       "      <td>0.37</td>\n",
       "      <td>0.35</td>\n",
       "      <td>0.3</td>\n",
       "      <td>0.37</td>\n",
       "      <td>...</td>\n",
       "      <td>0.37</td>\n",
       "      <td>0.37</td>\n",
       "      <td>0.47</td>\n",
       "      <td>0.69</td>\n",
       "      <td>0.56</td>\n",
       "      <td>0.45</td>\n",
       "      <td>0.38</td>\n",
       "      <td>0.35</td>\n",
       "      <td>0.36</td>\n",
       "      <td>0.32</td>\n",
       "    </tr>\n",
       "    <tr>\n",
       "      <th>3</th>\n",
       "      <td>2014/1/1</td>\n",
       "      <td>豐原</td>\n",
       "      <td>NMHC</td>\n",
       "      <td>0.2</td>\n",
       "      <td>0.15</td>\n",
       "      <td>0.13</td>\n",
       "      <td>0.12</td>\n",
       "      <td>0.11</td>\n",
       "      <td>0.06</td>\n",
       "      <td>0.1</td>\n",
       "      <td>...</td>\n",
       "      <td>0.1</td>\n",
       "      <td>0.13</td>\n",
       "      <td>0.14</td>\n",
       "      <td>0.23</td>\n",
       "      <td>0.18</td>\n",
       "      <td>0.12</td>\n",
       "      <td>0.1</td>\n",
       "      <td>0.09</td>\n",
       "      <td>0.1</td>\n",
       "      <td>0.08</td>\n",
       "    </tr>\n",
       "    <tr>\n",
       "      <th>4</th>\n",
       "      <td>2014/1/1</td>\n",
       "      <td>豐原</td>\n",
       "      <td>NO</td>\n",
       "      <td>0.9</td>\n",
       "      <td>0.6</td>\n",
       "      <td>0.5</td>\n",
       "      <td>1.7</td>\n",
       "      <td>1.8</td>\n",
       "      <td>1.5</td>\n",
       "      <td>1.9</td>\n",
       "      <td>...</td>\n",
       "      <td>2.5</td>\n",
       "      <td>2.2</td>\n",
       "      <td>2.5</td>\n",
       "      <td>2.3</td>\n",
       "      <td>2.1</td>\n",
       "      <td>1.9</td>\n",
       "      <td>1.5</td>\n",
       "      <td>1.6</td>\n",
       "      <td>1.8</td>\n",
       "      <td>1.5</td>\n",
       "    </tr>\n",
       "    <tr>\n",
       "      <th>...</th>\n",
       "      <td>...</td>\n",
       "      <td>...</td>\n",
       "      <td>...</td>\n",
       "      <td>...</td>\n",
       "      <td>...</td>\n",
       "      <td>...</td>\n",
       "      <td>...</td>\n",
       "      <td>...</td>\n",
       "      <td>...</td>\n",
       "      <td>...</td>\n",
       "      <td>...</td>\n",
       "      <td>...</td>\n",
       "      <td>...</td>\n",
       "      <td>...</td>\n",
       "      <td>...</td>\n",
       "      <td>...</td>\n",
       "      <td>...</td>\n",
       "      <td>...</td>\n",
       "      <td>...</td>\n",
       "      <td>...</td>\n",
       "      <td>...</td>\n",
       "    </tr>\n",
       "    <tr>\n",
       "      <th>4315</th>\n",
       "      <td>2014/12/20</td>\n",
       "      <td>豐原</td>\n",
       "      <td>THC</td>\n",
       "      <td>1.8</td>\n",
       "      <td>1.8</td>\n",
       "      <td>1.8</td>\n",
       "      <td>1.8</td>\n",
       "      <td>1.8</td>\n",
       "      <td>1.7</td>\n",
       "      <td>1.7</td>\n",
       "      <td>...</td>\n",
       "      <td>1.8</td>\n",
       "      <td>1.8</td>\n",
       "      <td>2</td>\n",
       "      <td>2.1</td>\n",
       "      <td>2</td>\n",
       "      <td>1.9</td>\n",
       "      <td>1.9</td>\n",
       "      <td>1.9</td>\n",
       "      <td>2</td>\n",
       "      <td>2</td>\n",
       "    </tr>\n",
       "    <tr>\n",
       "      <th>4316</th>\n",
       "      <td>2014/12/20</td>\n",
       "      <td>豐原</td>\n",
       "      <td>WD_HR</td>\n",
       "      <td>46</td>\n",
       "      <td>13</td>\n",
       "      <td>61</td>\n",
       "      <td>44</td>\n",
       "      <td>55</td>\n",
       "      <td>68</td>\n",
       "      <td>66</td>\n",
       "      <td>...</td>\n",
       "      <td>59</td>\n",
       "      <td>308</td>\n",
       "      <td>327</td>\n",
       "      <td>21</td>\n",
       "      <td>100</td>\n",
       "      <td>109</td>\n",
       "      <td>108</td>\n",
       "      <td>114</td>\n",
       "      <td>108</td>\n",
       "      <td>109</td>\n",
       "    </tr>\n",
       "    <tr>\n",
       "      <th>4317</th>\n",
       "      <td>2014/12/20</td>\n",
       "      <td>豐原</td>\n",
       "      <td>WIND_DIREC</td>\n",
       "      <td>36</td>\n",
       "      <td>55</td>\n",
       "      <td>72</td>\n",
       "      <td>327</td>\n",
       "      <td>74</td>\n",
       "      <td>52</td>\n",
       "      <td>59</td>\n",
       "      <td>...</td>\n",
       "      <td>18</td>\n",
       "      <td>311</td>\n",
       "      <td>52</td>\n",
       "      <td>54</td>\n",
       "      <td>121</td>\n",
       "      <td>97</td>\n",
       "      <td>107</td>\n",
       "      <td>118</td>\n",
       "      <td>100</td>\n",
       "      <td>105</td>\n",
       "    </tr>\n",
       "    <tr>\n",
       "      <th>4318</th>\n",
       "      <td>2014/12/20</td>\n",
       "      <td>豐原</td>\n",
       "      <td>WIND_SPEED</td>\n",
       "      <td>1.9</td>\n",
       "      <td>2.4</td>\n",
       "      <td>1.9</td>\n",
       "      <td>2.8</td>\n",
       "      <td>2.3</td>\n",
       "      <td>1.9</td>\n",
       "      <td>2.1</td>\n",
       "      <td>...</td>\n",
       "      <td>2.3</td>\n",
       "      <td>2.6</td>\n",
       "      <td>1.3</td>\n",
       "      <td>1</td>\n",
       "      <td>1.5</td>\n",
       "      <td>1</td>\n",
       "      <td>1.7</td>\n",
       "      <td>1.5</td>\n",
       "      <td>2</td>\n",
       "      <td>2</td>\n",
       "    </tr>\n",
       "    <tr>\n",
       "      <th>4319</th>\n",
       "      <td>2014/12/20</td>\n",
       "      <td>豐原</td>\n",
       "      <td>WS_HR</td>\n",
       "      <td>0.7</td>\n",
       "      <td>0.8</td>\n",
       "      <td>1.8</td>\n",
       "      <td>1</td>\n",
       "      <td>1.9</td>\n",
       "      <td>1.7</td>\n",
       "      <td>2.1</td>\n",
       "      <td>...</td>\n",
       "      <td>1.3</td>\n",
       "      <td>1.7</td>\n",
       "      <td>0.7</td>\n",
       "      <td>0.4</td>\n",
       "      <td>1.1</td>\n",
       "      <td>1.4</td>\n",
       "      <td>1.3</td>\n",
       "      <td>1.6</td>\n",
       "      <td>1.8</td>\n",
       "      <td>2</td>\n",
       "    </tr>\n",
       "  </tbody>\n",
       "</table>\n",
       "<p>4320 rows × 27 columns</p>\n",
       "</div>"
      ],
      "text/plain": [
       "              日期  測站          測項     0     1     2     3     4     5     6  \\\n",
       "0       2014/1/1  豐原    AMB_TEMP    14    14    14    13    12    12    12   \n",
       "1       2014/1/1  豐原         CH4   1.8   1.8   1.8   1.8   1.8   1.8   1.8   \n",
       "2       2014/1/1  豐原          CO  0.51  0.41  0.39  0.37  0.35   0.3  0.37   \n",
       "3       2014/1/1  豐原        NMHC   0.2  0.15  0.13  0.12  0.11  0.06   0.1   \n",
       "4       2014/1/1  豐原          NO   0.9   0.6   0.5   1.7   1.8   1.5   1.9   \n",
       "...          ...  ..         ...   ...   ...   ...   ...   ...   ...   ...   \n",
       "4315  2014/12/20  豐原         THC   1.8   1.8   1.8   1.8   1.8   1.7   1.7   \n",
       "4316  2014/12/20  豐原       WD_HR    46    13    61    44    55    68    66   \n",
       "4317  2014/12/20  豐原  WIND_DIREC    36    55    72   327    74    52    59   \n",
       "4318  2014/12/20  豐原  WIND_SPEED   1.9   2.4   1.9   2.8   2.3   1.9   2.1   \n",
       "4319  2014/12/20  豐原       WS_HR   0.7   0.8   1.8     1   1.9   1.7   2.1   \n",
       "\n",
       "      ...    14    15    16    17    18    19    20    21    22    23  \n",
       "0     ...    22    22    21    19    17    16    15    15    15    15  \n",
       "1     ...   1.8   1.8   1.8   1.8   1.8   1.8   1.8   1.8   1.8   1.8  \n",
       "2     ...  0.37  0.37  0.47  0.69  0.56  0.45  0.38  0.35  0.36  0.32  \n",
       "3     ...   0.1  0.13  0.14  0.23  0.18  0.12   0.1  0.09   0.1  0.08  \n",
       "4     ...   2.5   2.2   2.5   2.3   2.1   1.9   1.5   1.6   1.8   1.5  \n",
       "...   ...   ...   ...   ...   ...   ...   ...   ...   ...   ...   ...  \n",
       "4315  ...   1.8   1.8     2   2.1     2   1.9   1.9   1.9     2     2  \n",
       "4316  ...    59   308   327    21   100   109   108   114   108   109  \n",
       "4317  ...    18   311    52    54   121    97   107   118   100   105  \n",
       "4318  ...   2.3   2.6   1.3     1   1.5     1   1.7   1.5     2     2  \n",
       "4319  ...   1.3   1.7   0.7   0.4   1.1   1.4   1.3   1.6   1.8     2  \n",
       "\n",
       "[4320 rows x 27 columns]"
      ]
     },
     "execution_count": 34,
     "metadata": {},
     "output_type": "execute_result"
    }
   ],
   "source": [
    "# csv\n",
    "train_df = pd.read_csv(\"train.csv\", encoding='utf-8')\n",
    "test_df = pd.read_csv(\"test.csv\", encoding='utf-8',\n",
    "                    names = ['id', '測項', '0', '1', '2', '3', '4', '5', '6', '7', '8'])\n",
    "\n",
    "# result\n",
    "train_df"
   ]
  },
  {
   "attachments": {},
   "cell_type": "markdown",
   "metadata": {},
   "source": [
    "# 資料探索 \n",
    "又稱探索性資料分析（Exploratory Data Analysis, EDA）\n",
    "1. 構思關於這筆資料的問題。\n",
    "2. 透過視覺化、轉換和建模，試著尋找答案。\n",
    "3. 經由所得的結果，重整原先的問題，或者構思、增加新的問題。  \n",
    "\n",
    "\n",
    "[R學習筆記：探索性資料分析](https://bookdown.org/b08302310/R_learning_notes/%E6%8E%A2%E7%B4%A2%E6%80%A7%E8%B3%87%E6%96%99%E5%88%86%E6%9E%90.html)"
   ]
  },
  {
   "cell_type": "code",
   "execution_count": 35,
   "metadata": {},
   "outputs": [
    {
     "name": "stdout",
     "output_type": "stream",
     "text": [
      "測試項目:\n",
      " ['AMB_TEMP' 'CH4' 'CO' 'NMHC' 'NO' 'NO2' 'NOx' 'O3' 'PM10' 'PM2.5'\n",
      " 'RAINFALL' 'RH' 'SO2' 'THC' 'WD_HR' 'WIND_DIREC' 'WIND_SPEED' 'WS_HR']\n",
      "total label: 18\n"
     ]
    },
    {
     "data": {
      "text/html": [
       "<div>\n",
       "<style scoped>\n",
       "    .dataframe tbody tr th:only-of-type {\n",
       "        vertical-align: middle;\n",
       "    }\n",
       "\n",
       "    .dataframe tbody tr th {\n",
       "        vertical-align: top;\n",
       "    }\n",
       "\n",
       "    .dataframe thead th {\n",
       "        text-align: right;\n",
       "    }\n",
       "</style>\n",
       "<table border=\"1\" class=\"dataframe\">\n",
       "  <thead>\n",
       "    <tr style=\"text-align: right;\">\n",
       "      <th></th>\n",
       "      <th>id</th>\n",
       "      <th>測項</th>\n",
       "      <th>0</th>\n",
       "      <th>1</th>\n",
       "      <th>2</th>\n",
       "      <th>3</th>\n",
       "      <th>4</th>\n",
       "      <th>5</th>\n",
       "      <th>6</th>\n",
       "      <th>7</th>\n",
       "      <th>8</th>\n",
       "    </tr>\n",
       "  </thead>\n",
       "  <tbody>\n",
       "    <tr>\n",
       "      <th>0</th>\n",
       "      <td>id_0</td>\n",
       "      <td>AMB_TEMP</td>\n",
       "      <td>21</td>\n",
       "      <td>21</td>\n",
       "      <td>20</td>\n",
       "      <td>20</td>\n",
       "      <td>19</td>\n",
       "      <td>19</td>\n",
       "      <td>19</td>\n",
       "      <td>18</td>\n",
       "      <td>17</td>\n",
       "    </tr>\n",
       "    <tr>\n",
       "      <th>1</th>\n",
       "      <td>id_0</td>\n",
       "      <td>CH4</td>\n",
       "      <td>1.7</td>\n",
       "      <td>1.7</td>\n",
       "      <td>1.7</td>\n",
       "      <td>1.7</td>\n",
       "      <td>1.7</td>\n",
       "      <td>1.7</td>\n",
       "      <td>1.7</td>\n",
       "      <td>1.7</td>\n",
       "      <td>1.8</td>\n",
       "    </tr>\n",
       "    <tr>\n",
       "      <th>2</th>\n",
       "      <td>id_0</td>\n",
       "      <td>CO</td>\n",
       "      <td>0.39</td>\n",
       "      <td>0.36</td>\n",
       "      <td>0.36</td>\n",
       "      <td>0.4</td>\n",
       "      <td>0.53</td>\n",
       "      <td>0.55</td>\n",
       "      <td>0.34</td>\n",
       "      <td>0.31</td>\n",
       "      <td>0.23</td>\n",
       "    </tr>\n",
       "    <tr>\n",
       "      <th>3</th>\n",
       "      <td>id_0</td>\n",
       "      <td>NMHC</td>\n",
       "      <td>0.16</td>\n",
       "      <td>0.24</td>\n",
       "      <td>0.22</td>\n",
       "      <td>0.27</td>\n",
       "      <td>0.27</td>\n",
       "      <td>0.26</td>\n",
       "      <td>0.27</td>\n",
       "      <td>0.29</td>\n",
       "      <td>0.1</td>\n",
       "    </tr>\n",
       "    <tr>\n",
       "      <th>4</th>\n",
       "      <td>id_0</td>\n",
       "      <td>NO</td>\n",
       "      <td>1.3</td>\n",
       "      <td>1.3</td>\n",
       "      <td>1.3</td>\n",
       "      <td>1.3</td>\n",
       "      <td>1.4</td>\n",
       "      <td>1.6</td>\n",
       "      <td>1.2</td>\n",
       "      <td>1.1</td>\n",
       "      <td>0.9</td>\n",
       "    </tr>\n",
       "    <tr>\n",
       "      <th>...</th>\n",
       "      <td>...</td>\n",
       "      <td>...</td>\n",
       "      <td>...</td>\n",
       "      <td>...</td>\n",
       "      <td>...</td>\n",
       "      <td>...</td>\n",
       "      <td>...</td>\n",
       "      <td>...</td>\n",
       "      <td>...</td>\n",
       "      <td>...</td>\n",
       "      <td>...</td>\n",
       "    </tr>\n",
       "    <tr>\n",
       "      <th>4315</th>\n",
       "      <td>id_239</td>\n",
       "      <td>THC</td>\n",
       "      <td>1.8</td>\n",
       "      <td>1.8</td>\n",
       "      <td>1.8</td>\n",
       "      <td>1.8</td>\n",
       "      <td>1.7</td>\n",
       "      <td>1.7</td>\n",
       "      <td>1.7</td>\n",
       "      <td>1.7</td>\n",
       "      <td>1.7</td>\n",
       "    </tr>\n",
       "    <tr>\n",
       "      <th>4316</th>\n",
       "      <td>id_239</td>\n",
       "      <td>WD_HR</td>\n",
       "      <td>80</td>\n",
       "      <td>92</td>\n",
       "      <td>95</td>\n",
       "      <td>95</td>\n",
       "      <td>96</td>\n",
       "      <td>97</td>\n",
       "      <td>96</td>\n",
       "      <td>96</td>\n",
       "      <td>84</td>\n",
       "    </tr>\n",
       "    <tr>\n",
       "      <th>4317</th>\n",
       "      <td>id_239</td>\n",
       "      <td>WIND_DIREC</td>\n",
       "      <td>76</td>\n",
       "      <td>99</td>\n",
       "      <td>93</td>\n",
       "      <td>97</td>\n",
       "      <td>93</td>\n",
       "      <td>94</td>\n",
       "      <td>98</td>\n",
       "      <td>97</td>\n",
       "      <td>65</td>\n",
       "    </tr>\n",
       "    <tr>\n",
       "      <th>4318</th>\n",
       "      <td>id_239</td>\n",
       "      <td>WIND_SPEED</td>\n",
       "      <td>2.2</td>\n",
       "      <td>3.2</td>\n",
       "      <td>2.5</td>\n",
       "      <td>3.6</td>\n",
       "      <td>5</td>\n",
       "      <td>4.2</td>\n",
       "      <td>5.7</td>\n",
       "      <td>4.9</td>\n",
       "      <td>3.6</td>\n",
       "    </tr>\n",
       "    <tr>\n",
       "      <th>4319</th>\n",
       "      <td>id_239</td>\n",
       "      <td>WS_HR</td>\n",
       "      <td>1.7</td>\n",
       "      <td>2.8</td>\n",
       "      <td>2.6</td>\n",
       "      <td>3.3</td>\n",
       "      <td>3.5</td>\n",
       "      <td>5</td>\n",
       "      <td>4.9</td>\n",
       "      <td>5.2</td>\n",
       "      <td>3.6</td>\n",
       "    </tr>\n",
       "  </tbody>\n",
       "</table>\n",
       "<p>4320 rows × 11 columns</p>\n",
       "</div>"
      ],
      "text/plain": [
       "          id          測項     0     1     2     3     4     5     6     7     8\n",
       "0       id_0    AMB_TEMP    21    21    20    20    19    19    19    18    17\n",
       "1       id_0         CH4   1.7   1.7   1.7   1.7   1.7   1.7   1.7   1.7   1.8\n",
       "2       id_0          CO  0.39  0.36  0.36   0.4  0.53  0.55  0.34  0.31  0.23\n",
       "3       id_0        NMHC  0.16  0.24  0.22  0.27  0.27  0.26  0.27  0.29   0.1\n",
       "4       id_0          NO   1.3   1.3   1.3   1.3   1.4   1.6   1.2   1.1   0.9\n",
       "...      ...         ...   ...   ...   ...   ...   ...   ...   ...   ...   ...\n",
       "4315  id_239         THC   1.8   1.8   1.8   1.8   1.7   1.7   1.7   1.7   1.7\n",
       "4316  id_239       WD_HR    80    92    95    95    96    97    96    96    84\n",
       "4317  id_239  WIND_DIREC    76    99    93    97    93    94    98    97    65\n",
       "4318  id_239  WIND_SPEED   2.2   3.2   2.5   3.6     5   4.2   5.7   4.9   3.6\n",
       "4319  id_239       WS_HR   1.7   2.8   2.6   3.3   3.5     5   4.9   5.2   3.6\n",
       "\n",
       "[4320 rows x 11 columns]"
      ]
     },
     "execution_count": 35,
     "metadata": {},
     "output_type": "execute_result"
    }
   ],
   "source": [
    "# 共有多少個測試項目\n",
    "print(\"測試項目:\\n\", train_df['測項'].unique())\n",
    "print(\"total label:\", len(train_df['測項'].unique()))\n",
    "\n",
    "# train: 整理資料\n",
    "processed_train_df = train_df.copy()\n",
    "processed_train_df[processed_train_df == 'NR'] = 0 # NR 都改成 0\n",
    "processed_train_df = processed_train_df.drop(['測站'], axis=1)\n",
    "\n",
    "# test: 整理資料\n",
    "processed_test_df = test_df.copy()\n",
    "processed_test_df[processed_test_df == 'NR'] = 0 # NR 都改成 0\n",
    "\n",
    "processed_test_df\n",
    "# processed_train_df\n"
   ]
  },
  {
   "cell_type": "code",
   "execution_count": 36,
   "metadata": {},
   "outputs": [
    {
     "data": {
      "text/html": [
       "<div>\n",
       "<style scoped>\n",
       "    .dataframe tbody tr th:only-of-type {\n",
       "        vertical-align: middle;\n",
       "    }\n",
       "\n",
       "    .dataframe tbody tr th {\n",
       "        vertical-align: top;\n",
       "    }\n",
       "\n",
       "    .dataframe thead th {\n",
       "        text-align: right;\n",
       "    }\n",
       "</style>\n",
       "<table border=\"1\" class=\"dataframe\">\n",
       "  <thead>\n",
       "    <tr style=\"text-align: right;\">\n",
       "      <th>測項</th>\n",
       "      <th>日期</th>\n",
       "      <th>時</th>\n",
       "      <th>AMB_TEMP</th>\n",
       "      <th>CH4</th>\n",
       "      <th>CO</th>\n",
       "      <th>NMHC</th>\n",
       "      <th>NO</th>\n",
       "      <th>NO2</th>\n",
       "      <th>NOx</th>\n",
       "      <th>O3</th>\n",
       "      <th>PM10</th>\n",
       "      <th>PM2.5</th>\n",
       "      <th>RAINFALL</th>\n",
       "      <th>RH</th>\n",
       "      <th>SO2</th>\n",
       "      <th>THC</th>\n",
       "      <th>WD_HR</th>\n",
       "      <th>WIND_DIREC</th>\n",
       "      <th>WIND_SPEED</th>\n",
       "      <th>WS_HR</th>\n",
       "    </tr>\n",
       "  </thead>\n",
       "  <tbody>\n",
       "    <tr>\n",
       "      <th>0</th>\n",
       "      <td>2014/1/1</td>\n",
       "      <td>0</td>\n",
       "      <td>14</td>\n",
       "      <td>1.8</td>\n",
       "      <td>0.51</td>\n",
       "      <td>0.2</td>\n",
       "      <td>0.9</td>\n",
       "      <td>16</td>\n",
       "      <td>17</td>\n",
       "      <td>16</td>\n",
       "      <td>56</td>\n",
       "      <td>26</td>\n",
       "      <td>0</td>\n",
       "      <td>77</td>\n",
       "      <td>1.8</td>\n",
       "      <td>2</td>\n",
       "      <td>37</td>\n",
       "      <td>35</td>\n",
       "      <td>1.4</td>\n",
       "      <td>0.5</td>\n",
       "    </tr>\n",
       "    <tr>\n",
       "      <th>1</th>\n",
       "      <td>2014/1/10</td>\n",
       "      <td>0</td>\n",
       "      <td>12</td>\n",
       "      <td>1.8</td>\n",
       "      <td>0.28</td>\n",
       "      <td>0.05</td>\n",
       "      <td>1.4</td>\n",
       "      <td>3.8</td>\n",
       "      <td>5.2</td>\n",
       "      <td>27</td>\n",
       "      <td>5</td>\n",
       "      <td>6</td>\n",
       "      <td>0</td>\n",
       "      <td>73</td>\n",
       "      <td>1.2</td>\n",
       "      <td>1.8</td>\n",
       "      <td>73</td>\n",
       "      <td>63</td>\n",
       "      <td>2.4</td>\n",
       "      <td>1.4</td>\n",
       "    </tr>\n",
       "    <tr>\n",
       "      <th>2</th>\n",
       "      <td>2014/1/11</td>\n",
       "      <td>0</td>\n",
       "      <td>13</td>\n",
       "      <td>1.8</td>\n",
       "      <td>0.41</td>\n",
       "      <td>0.17</td>\n",
       "      <td>1.6</td>\n",
       "      <td>9.3</td>\n",
       "      <td>11</td>\n",
       "      <td>19</td>\n",
       "      <td>32</td>\n",
       "      <td>25</td>\n",
       "      <td>0</td>\n",
       "      <td>84</td>\n",
       "      <td>0.4</td>\n",
       "      <td>2</td>\n",
       "      <td>106</td>\n",
       "      <td>104</td>\n",
       "      <td>1.4</td>\n",
       "      <td>1.3</td>\n",
       "    </tr>\n",
       "    <tr>\n",
       "      <th>3</th>\n",
       "      <td>2014/1/12</td>\n",
       "      <td>0</td>\n",
       "      <td>17</td>\n",
       "      <td>1.8</td>\n",
       "      <td>0.5</td>\n",
       "      <td>0.19</td>\n",
       "      <td>1.8</td>\n",
       "      <td>16</td>\n",
       "      <td>17</td>\n",
       "      <td>29</td>\n",
       "      <td>87</td>\n",
       "      <td>48</td>\n",
       "      <td>0</td>\n",
       "      <td>87</td>\n",
       "      <td>4.1</td>\n",
       "      <td>2</td>\n",
       "      <td>176</td>\n",
       "      <td>179</td>\n",
       "      <td>1.7</td>\n",
       "      <td>1.6</td>\n",
       "    </tr>\n",
       "    <tr>\n",
       "      <th>4</th>\n",
       "      <td>2014/1/13</td>\n",
       "      <td>0</td>\n",
       "      <td>15</td>\n",
       "      <td>1.8</td>\n",
       "      <td>0.27</td>\n",
       "      <td>0.06</td>\n",
       "      <td>1.1</td>\n",
       "      <td>5.4</td>\n",
       "      <td>6.5</td>\n",
       "      <td>31</td>\n",
       "      <td>13</td>\n",
       "      <td>10</td>\n",
       "      <td>0</td>\n",
       "      <td>81</td>\n",
       "      <td>-0.3</td>\n",
       "      <td>1.8</td>\n",
       "      <td>30</td>\n",
       "      <td>350</td>\n",
       "      <td>1.4</td>\n",
       "      <td>0.3</td>\n",
       "    </tr>\n",
       "    <tr>\n",
       "      <th>...</th>\n",
       "      <td>...</td>\n",
       "      <td>...</td>\n",
       "      <td>...</td>\n",
       "      <td>...</td>\n",
       "      <td>...</td>\n",
       "      <td>...</td>\n",
       "      <td>...</td>\n",
       "      <td>...</td>\n",
       "      <td>...</td>\n",
       "      <td>...</td>\n",
       "      <td>...</td>\n",
       "      <td>...</td>\n",
       "      <td>...</td>\n",
       "      <td>...</td>\n",
       "      <td>...</td>\n",
       "      <td>...</td>\n",
       "      <td>...</td>\n",
       "      <td>...</td>\n",
       "      <td>...</td>\n",
       "      <td>...</td>\n",
       "    </tr>\n",
       "    <tr>\n",
       "      <th>5755</th>\n",
       "      <td>2014/9/5</td>\n",
       "      <td>23</td>\n",
       "      <td>27</td>\n",
       "      <td>1.7</td>\n",
       "      <td>0.27</td>\n",
       "      <td>0.11</td>\n",
       "      <td>0.9</td>\n",
       "      <td>8.4</td>\n",
       "      <td>9.3</td>\n",
       "      <td>30</td>\n",
       "      <td>39</td>\n",
       "      <td>22</td>\n",
       "      <td>0</td>\n",
       "      <td>82</td>\n",
       "      <td>2.2</td>\n",
       "      <td>1.8</td>\n",
       "      <td>124</td>\n",
       "      <td>102</td>\n",
       "      <td>0.9</td>\n",
       "      <td>1.2</td>\n",
       "    </tr>\n",
       "    <tr>\n",
       "      <th>5756</th>\n",
       "      <td>2014/9/6</td>\n",
       "      <td>23</td>\n",
       "      <td>27</td>\n",
       "      <td>1.8</td>\n",
       "      <td>0.47</td>\n",
       "      <td>0.19</td>\n",
       "      <td>2</td>\n",
       "      <td>18</td>\n",
       "      <td>20</td>\n",
       "      <td>5.6</td>\n",
       "      <td>64</td>\n",
       "      <td>20</td>\n",
       "      <td>0</td>\n",
       "      <td>86</td>\n",
       "      <td>2.8</td>\n",
       "      <td>1.9</td>\n",
       "      <td>179</td>\n",
       "      <td>191</td>\n",
       "      <td>2.8</td>\n",
       "      <td>2.8</td>\n",
       "    </tr>\n",
       "    <tr>\n",
       "      <th>5757</th>\n",
       "      <td>2014/9/7</td>\n",
       "      <td>23</td>\n",
       "      <td>27</td>\n",
       "      <td>1.7</td>\n",
       "      <td>0.25</td>\n",
       "      <td>0.06</td>\n",
       "      <td>1.3</td>\n",
       "      <td>5.6</td>\n",
       "      <td>6.9</td>\n",
       "      <td>27</td>\n",
       "      <td>47</td>\n",
       "      <td>24</td>\n",
       "      <td>0</td>\n",
       "      <td>81</td>\n",
       "      <td>2.5</td>\n",
       "      <td>1.7</td>\n",
       "      <td>124</td>\n",
       "      <td>118</td>\n",
       "      <td>1.6</td>\n",
       "      <td>1.9</td>\n",
       "    </tr>\n",
       "    <tr>\n",
       "      <th>5758</th>\n",
       "      <td>2014/9/8</td>\n",
       "      <td>23</td>\n",
       "      <td>25</td>\n",
       "      <td>1.7</td>\n",
       "      <td>0.19</td>\n",
       "      <td>0.06</td>\n",
       "      <td>1.6</td>\n",
       "      <td>6.9</td>\n",
       "      <td>8.5</td>\n",
       "      <td>15</td>\n",
       "      <td>17</td>\n",
       "      <td>11</td>\n",
       "      <td>0</td>\n",
       "      <td>85</td>\n",
       "      <td>1.5</td>\n",
       "      <td>1.8</td>\n",
       "      <td>111</td>\n",
       "      <td>112</td>\n",
       "      <td>1.6</td>\n",
       "      <td>1.7</td>\n",
       "    </tr>\n",
       "    <tr>\n",
       "      <th>5759</th>\n",
       "      <td>2014/9/9</td>\n",
       "      <td>23</td>\n",
       "      <td>27</td>\n",
       "      <td>1.7</td>\n",
       "      <td>0.25</td>\n",
       "      <td>0.16</td>\n",
       "      <td>2.2</td>\n",
       "      <td>11</td>\n",
       "      <td>14</td>\n",
       "      <td>3.9</td>\n",
       "      <td>29</td>\n",
       "      <td>8</td>\n",
       "      <td>0</td>\n",
       "      <td>78</td>\n",
       "      <td>2.5</td>\n",
       "      <td>1.8</td>\n",
       "      <td>112</td>\n",
       "      <td>107</td>\n",
       "      <td>1.7</td>\n",
       "      <td>1.4</td>\n",
       "    </tr>\n",
       "  </tbody>\n",
       "</table>\n",
       "<p>5760 rows × 20 columns</p>\n",
       "</div>"
      ],
      "text/plain": [
       "測項           日期   時 AMB_TEMP  CH4    CO  NMHC   NO  NO2  NOx   O3 PM10 PM2.5  \\\n",
       "0      2014/1/1   0       14  1.8  0.51   0.2  0.9   16   17   16   56    26   \n",
       "1     2014/1/10   0       12  1.8  0.28  0.05  1.4  3.8  5.2   27    5     6   \n",
       "2     2014/1/11   0       13  1.8  0.41  0.17  1.6  9.3   11   19   32    25   \n",
       "3     2014/1/12   0       17  1.8   0.5  0.19  1.8   16   17   29   87    48   \n",
       "4     2014/1/13   0       15  1.8  0.27  0.06  1.1  5.4  6.5   31   13    10   \n",
       "...         ...  ..      ...  ...   ...   ...  ...  ...  ...  ...  ...   ...   \n",
       "5755   2014/9/5  23       27  1.7  0.27  0.11  0.9  8.4  9.3   30   39    22   \n",
       "5756   2014/9/6  23       27  1.8  0.47  0.19    2   18   20  5.6   64    20   \n",
       "5757   2014/9/7  23       27  1.7  0.25  0.06  1.3  5.6  6.9   27   47    24   \n",
       "5758   2014/9/8  23       25  1.7  0.19  0.06  1.6  6.9  8.5   15   17    11   \n",
       "5759   2014/9/9  23       27  1.7  0.25  0.16  2.2   11   14  3.9   29     8   \n",
       "\n",
       "測項   RAINFALL  RH   SO2  THC WD_HR WIND_DIREC WIND_SPEED WS_HR  \n",
       "0           0  77   1.8    2    37         35        1.4   0.5  \n",
       "1           0  73   1.2  1.8    73         63        2.4   1.4  \n",
       "2           0  84   0.4    2   106        104        1.4   1.3  \n",
       "3           0  87   4.1    2   176        179        1.7   1.6  \n",
       "4           0  81  -0.3  1.8    30        350        1.4   0.3  \n",
       "...       ...  ..   ...  ...   ...        ...        ...   ...  \n",
       "5755        0  82   2.2  1.8   124        102        0.9   1.2  \n",
       "5756        0  86   2.8  1.9   179        191        2.8   2.8  \n",
       "5757        0  81   2.5  1.7   124        118        1.6   1.9  \n",
       "5758        0  85   1.5  1.8   111        112        1.6   1.7  \n",
       "5759        0  78   2.5  1.8   112        107        1.7   1.4  \n",
       "\n",
       "[5760 rows x 20 columns]"
      ]
     },
     "execution_count": 36,
     "metadata": {},
     "output_type": "execute_result"
    }
   ],
   "source": [
    "# 每個月拆開來看\n",
    "# 20(day) * 18(features) = 360(records) * 12(month) = 4320(rows)\n",
    "\n",
    "# train: 行、列交換一下\n",
    "train_data_fixed = pd.DataFrame()\n",
    "for i in range(24):\n",
    "    train_data_slice = processed_train_df[['日期', '測項', str(i)]].copy()\n",
    "    train_data_slice['日期_時間'] = pd.to_datetime(train_data_slice['日期'] + ' ' + str(i) +':00:00')\n",
    "    train_data_slice['日期'] = train_data_slice['日期']\n",
    "    train_data_slice['時'] = i\n",
    "    train_data_slice = train_data_slice.pivot(index=[ '日期', '時'], columns=['測項'], values=str(i))\n",
    "    train_data_fixed = pd.concat([train_data_fixed, train_data_slice])\n",
    "    \n",
    "# test: 行、列交換\n",
    "test_data_fixed = pd.DataFrame()\n",
    "for i in range(9):\n",
    "    test_data_slice = processed_test_df[['id', '測項', str(i)]].copy()\n",
    "    test_data_slice['id'] = test_data_slice['id'] + ' ' + str(i) + ':00:00'\n",
    "    test_data_slice = test_data_slice.pivot(index='id', columns='測項', values=str(i))\n",
    "    test_data_fixed = pd.concat([test_data_fixed, test_data_slice])\n",
    "    \n",
    "train_data_fixed.reset_index(inplace=True)\n",
    "test_data_fixed.reset_index(inplace=True)\n",
    "\n",
    "train_data_fixed\n",
    "# test_data_fixed\n"
   ]
  },
  {
   "cell_type": "code",
   "execution_count": 37,
   "metadata": {},
   "outputs": [
    {
     "name": "stderr",
     "output_type": "stream",
     "text": [
      "/Library/Frameworks/Python.framework/Versions/3.7/lib/python3.7/site-packages/ipykernel_launcher.py:20: SettingWithCopyWarning: \n",
      "A value is trying to be set on a copy of a slice from a DataFrame.\n",
      "Try using .loc[row_indexer,col_indexer] = value instead\n",
      "\n",
      "See the caveats in the documentation: https://pandas.pydata.org/pandas-docs/stable/user_guide/indexing.html#returning-a-view-versus-a-copy\n",
      "/Library/Frameworks/Python.framework/Versions/3.7/lib/python3.7/site-packages/ipykernel_launcher.py:49: SettingWithCopyWarning: \n",
      "A value is trying to be set on a copy of a slice from a DataFrame.\n",
      "Try using .loc[row_indexer,col_indexer] = value instead\n",
      "\n",
      "See the caveats in the documentation: https://pandas.pydata.org/pandas-docs/stable/user_guide/indexing.html#returning-a-view-versus-a-copy\n"
     ]
    },
    {
     "data": {
      "text/plain": [
       "array(['17', '1.8', '0.56', '0.18', '2.1', '19', '21', '33', '85', '45',\n",
       "       0, '72', '3.4', '2', '118', '119', '2.8', '2.5', '45'],\n",
       "      dtype=object)"
      ]
     },
     "execution_count": 37,
     "metadata": {},
     "output_type": "execute_result"
    }
   ],
   "source": [
    "x_train_np = []\n",
    "y_train_np = []\n",
    "for row_date in train_data_fixed['日期'].unique():\n",
    "    row_date_df = train_data_fixed[(train_data_fixed['日期'] == row_date)]\n",
    "    prev_PM2dot5 = row_date_df.iloc[0]['PM2.5']\n",
    "\n",
    "    x_train_temp_np = []\n",
    "    y_train_temp_np = []\n",
    "    PM2dot5 = 0\n",
    "    count = 0\n",
    "    for row_hour in row_date_df['時'].unique():\n",
    "        row_hour_df = row_date_df[(row_date_df['時'] == row_hour)]\n",
    "        \n",
    "        if count != len(row_date_df) and count != 0:\n",
    "            y_train_np.append(PM2dot5)\n",
    "        \n",
    "        PM2dot5 = row_hour_df.iloc[0]['PM2.5']\n",
    "\n",
    "        # Add an extra column to the dataframe: prev_PM2.5\n",
    "        row_hour_df['prev_PM2.5'] = row_hour_df.iloc[0]['PM2.5']\n",
    "        prev_PM2dot5 = PM2dot5\n",
    "        \n",
    "        \n",
    "        # x_train_temp_np = np.concatenate((x_train_temp_np, row_hour_df.iloc[0][2:].to_numpy()), axis=0)\n",
    "        x_train_temp_np = row_hour_df.iloc[0][2:].to_numpy()\n",
    "        x_train_np.append(x_train_temp_np)\n",
    "        \n",
    "        count += 1\n",
    "        \n",
    "    y_train_np.append(PM2dot5)\n",
    "        \n",
    "    # y_train_np.append(PM2dot5)\n",
    "    # x_train_np.append(x_train_temp_np)\n",
    "\n",
    "# 240(date) * 24(hour) * 18(feature)\n",
    "# x_train_np\n",
    "# y_train_np\n",
    "\n",
    "x_test_np = []\n",
    "prev_PM2dot5 = test_data_fixed.iloc[0]['PM2.5']\n",
    "for row_date in test_data_fixed['id'].unique():\n",
    "    row_date_df = test_data_fixed[(test_data_fixed['id'] == row_date)]\n",
    "    \n",
    "    # y train\n",
    "    PM2dot5 = row_date_df.iloc[0]['PM2.5']\n",
    "\n",
    "    # Add an extra column to the dataframe: prev_PM2.5\n",
    "    row_date_df['prev_PM2.5'] = prev_PM2dot5\n",
    "    prev_PM2dot5 = PM2dot5\n",
    "    \n",
    "    test_temp_np = row_date_df.iloc[0][1:].to_numpy()\n",
    "    x_test_np.append(test_temp_np)\n",
    "\n",
    "# 240(date) * 24(hour) * 18(feature)\n",
    "x_train_np\n",
    "# x_test_np"
   ]
  },
  {
   "cell_type": "code",
   "execution_count": 38,
   "metadata": {},
   "outputs": [
    {
     "name": "stdout",
     "output_type": "stream",
     "text": [
      "x_data shape: (5760, 19)\n",
      "y_data shape: (5760,)\n",
      "x test np (2160, 19)\n"
     ]
    }
   ],
   "source": [
    "x_train_np = np.array(x_train_np, dtype=np.float16)\n",
    "y_train_np = np.array(y_train_np, dtype=np.float16)\n",
    "\n",
    "x_test_np = np.array(x_test_np, dtype=np.float16)\n",
    "\n",
    "print(\"x_data shape:\", x_train_np.shape)\n",
    "print(\"y_data shape:\", y_train_np.shape)\n",
    "\n",
    "print(\"x test np\", x_test_np.shape)\n",
    "\n",
    "# mean = np.mean(train_np, axis=0)\n",
    "# std = np.std(train_np, axis=0)\n",
    "\n",
    "# print(\"mean shape:\", mean.shape)\n",
    "# print(\"std shape:\", std.shape)\n"
   ]
  },
  {
   "cell_type": "code",
   "execution_count": 39,
   "metadata": {},
   "outputs": [
    {
     "name": "stdout",
     "output_type": "stream",
     "text": [
      "X shape (5760, 19), y shpae (5760, 1)\n",
      "Cost after iteration 0: 50210.29203865976\n",
      "Cost after iteration 50000: 8.28603583582608\n",
      "Cost after iteration 100000: 4.6718391489319195\n",
      "Cost after iteration 150000: 3.5648361918970752\n",
      "Cost after iteration 200000: 2.9756999581662376\n",
      "Cost after iteration 250000: 2.5438282368887593\n"
     ]
    }
   ],
   "source": [
    "\n",
    "# 定义成本函数\n",
    "def compute_cost(X, y, w, b):\n",
    "    m = len(y)\n",
    "    y_pred = np.dot(X, w) + b\n",
    "    cost = (1/(2*m)) * np.sum(np.square(y_pred - y))\n",
    "    return cost\n",
    "\n",
    "\n",
    "# 实现梯度下降算法\n",
    "def gradient_descent(X, y, w, b, learning_rate, num_iterations):\n",
    "    m = len(y)\n",
    "    for i in range(num_iterations):\n",
    "        y_pred = np.dot(X, w) + b\n",
    "        dw = (1/m) * np.dot(X.T, (y_pred - y))\n",
    "        db = (1/m) * np.sum(y_pred - y)\n",
    "        w = w - learning_rate * dw\n",
    "        b = b - learning_rate * db\n",
    "        cost = compute_cost(X, y, w, b)\n",
    "        if i % (num_iterations / 10) == 0:\n",
    "            print(\"Cost after iteration {}: {}\".format(i, cost))\n",
    "    return w, b\n",
    "\n",
    "# 初始化权重矩阵和偏置项\n",
    "w = np.random.randn(19, 1)\n",
    "b = 0\n",
    "\n",
    "# 运行模型\n",
    "X = np.array(x_train_np)\n",
    "y = np.array(y_train_np).reshape(-1, 1)\n",
    "\n",
    "print(\"X shape {}, y shpae {}\".format(X.shape, y.shape))\n",
    "w, b = gradient_descent(X, y, w, b, learning_rate=0.0000005, num_iterations=800000)\n",
    "\n",
    "# 權重\n",
    "print(\"w:\", w)\n",
    "print(\"b:\", b)\n",
    "\n",
    "# 进行预测\n",
    "y_pred = np.dot(X, w) + b\n",
    "print(\"y shape\", y_pred.shape)\n",
    "y_pred\n"
   ]
  },
  {
   "cell_type": "code",
   "execution_count": null,
   "metadata": {},
   "outputs": [
    {
     "data": {
      "text/plain": [
       "array([[-9.32260314e-03],\n",
       "       [ 1.12888005e+00],\n",
       "       [-1.42552410e+00],\n",
       "       [ 3.15189973e-01],\n",
       "       [ 2.52666275e-01],\n",
       "       [ 3.81318160e-01],\n",
       "       [-3.42582352e-01],\n",
       "       [-2.80881686e-03],\n",
       "       [-2.88890480e-03],\n",
       "       [ 9.95994523e-01],\n",
       "       [ 1.45538247e-01],\n",
       "       [-5.55532918e-03],\n",
       "       [ 2.34066940e-01],\n",
       "       [-7.83405807e-01],\n",
       "       [-1.06271975e-03],\n",
       "       [-1.44107137e-04],\n",
       "       [ 1.20243771e-01],\n",
       "       [-5.99928422e-02],\n",
       "       [ 2.38911727e-03]])"
      ]
     },
     "execution_count": 110,
     "metadata": {},
     "output_type": "execute_result"
    }
   ],
   "source": [
    "w"
   ]
  },
  {
   "cell_type": "code",
   "execution_count": null,
   "metadata": {},
   "outputs": [
    {
     "name": "stderr",
     "output_type": "stream",
     "text": [
      "/Library/Frameworks/Python.framework/Versions/3.7/lib/python3.7/site-packages/ipykernel_launcher.py:11: SettingWithCopyWarning:\n",
      "\n",
      "\n",
      "A value is trying to be set on a copy of a slice from a DataFrame.\n",
      "Try using .loc[row_indexer,col_indexer] = value instead\n",
      "\n",
      "See the caveats in the documentation: https://pandas.pydata.org/pandas-docs/stable/user_guide/indexing.html#returning-a-view-versus-a-copy\n",
      "\n",
      "/Library/Frameworks/Python.framework/Versions/3.7/lib/python3.7/site-packages/ipykernel_launcher.py:14: SettingWithCopyWarning:\n",
      "\n",
      "\n",
      "A value is trying to be set on a copy of a slice from a DataFrame.\n",
      "Try using .loc[row_indexer,col_indexer] = value instead\n",
      "\n",
      "See the caveats in the documentation: https://pandas.pydata.org/pandas-docs/stable/user_guide/indexing.html#returning-a-view-versus-a-copy\n",
      "\n",
      "/Library/Frameworks/Python.framework/Versions/3.7/lib/python3.7/site-packages/ipykernel_launcher.py:15: SettingWithCopyWarning:\n",
      "\n",
      "\n",
      "A value is trying to be set on a copy of a slice from a DataFrame.\n",
      "Try using .loc[row_indexer,col_indexer] = value instead\n",
      "\n",
      "See the caveats in the documentation: https://pandas.pydata.org/pandas-docs/stable/user_guide/indexing.html#returning-a-view-versus-a-copy\n",
      "\n",
      "/Library/Frameworks/Python.framework/Versions/3.7/lib/python3.7/site-packages/ipykernel_launcher.py:18: SettingWithCopyWarning:\n",
      "\n",
      "\n",
      "A value is trying to be set on a copy of a slice from a DataFrame.\n",
      "Try using .loc[row_indexer,col_indexer] = value instead\n",
      "\n",
      "See the caveats in the documentation: https://pandas.pydata.org/pandas-docs/stable/user_guide/indexing.html#returning-a-view-versus-a-copy\n",
      "\n",
      "/Library/Frameworks/Python.framework/Versions/3.7/lib/python3.7/site-packages/pandas/core/frame.py:4913: SettingWithCopyWarning:\n",
      "\n",
      "\n",
      "A value is trying to be set on a copy of a slice from a DataFrame\n",
      "\n",
      "See the caveats in the documentation: https://pandas.pydata.org/pandas-docs/stable/user_guide/indexing.html#returning-a-view-versus-a-copy\n",
      "\n"
     ]
    },
    {
     "data": {
      "application/vnd.plotly.v1+json": {
       "config": {
        "plotlyServerURL": "https://plot.ly"
       },
       "data": [
        {
         "hovertemplate": "type=PM2.5<br>日期_時=%{x}<br>value=%{y}<extra></extra>",
         "legendgroup": "PM2.5",
         "line": {
          "color": "#636efa",
          "dash": "solid"
         },
         "marker": {
          "symbol": "circle"
         },
         "mode": "lines",
         "name": "PM2.5",
         "orientation": "v",
         "showlegend": true,
         "type": "scatter",
         "x": [
          "2014-01-01T00:00:00",
          "2014-01-01T01:00:00",
          "2014-01-01T02:00:00",
          "2014-01-01T03:00:00",
          "2014-01-01T04:00:00",
          "2014-01-01T05:00:00",
          "2014-01-01T06:00:00",
          "2014-01-01T07:00:00",
          "2014-01-01T08:00:00",
          "2014-01-01T09:00:00",
          "2014-01-01T10:00:00",
          "2014-01-01T11:00:00",
          "2014-01-01T12:00:00",
          "2014-01-01T13:00:00",
          "2014-01-01T14:00:00",
          "2014-01-01T15:00:00",
          "2014-01-01T16:00:00",
          "2014-01-01T17:00:00",
          "2014-01-01T18:00:00",
          "2014-01-01T19:00:00",
          "2014-01-01T20:00:00",
          "2014-01-01T21:00:00",
          "2014-01-01T22:00:00",
          "2014-01-01T23:00:00",
          "2014-01-02T00:00:00",
          "2014-01-02T01:00:00",
          "2014-01-02T02:00:00",
          "2014-01-02T03:00:00",
          "2014-01-02T04:00:00",
          "2014-01-02T05:00:00",
          "2014-01-02T06:00:00",
          "2014-01-02T07:00:00",
          "2014-01-02T08:00:00",
          "2014-01-02T09:00:00",
          "2014-01-02T10:00:00",
          "2014-01-02T11:00:00",
          "2014-01-02T12:00:00",
          "2014-01-02T13:00:00",
          "2014-01-02T14:00:00",
          "2014-01-02T15:00:00",
          "2014-01-02T16:00:00",
          "2014-01-02T17:00:00",
          "2014-01-02T18:00:00",
          "2014-01-02T19:00:00",
          "2014-01-02T20:00:00",
          "2014-01-02T21:00:00",
          "2014-01-02T22:00:00",
          "2014-01-02T23:00:00",
          "2014-01-03T00:00:00",
          "2014-01-03T01:00:00",
          "2014-01-03T02:00:00",
          "2014-01-03T03:00:00",
          "2014-01-03T04:00:00",
          "2014-01-03T05:00:00",
          "2014-01-03T06:00:00",
          "2014-01-03T07:00:00",
          "2014-01-03T08:00:00",
          "2014-01-03T09:00:00",
          "2014-01-03T10:00:00",
          "2014-01-03T11:00:00",
          "2014-01-03T12:00:00",
          "2014-01-03T13:00:00",
          "2014-01-03T14:00:00",
          "2014-01-03T15:00:00",
          "2014-01-03T16:00:00",
          "2014-01-03T17:00:00",
          "2014-01-03T18:00:00",
          "2014-01-03T19:00:00",
          "2014-01-03T20:00:00",
          "2014-01-03T21:00:00",
          "2014-01-03T22:00:00",
          "2014-01-03T23:00:00",
          "2014-01-04T00:00:00",
          "2014-01-04T01:00:00",
          "2014-01-04T02:00:00",
          "2014-01-04T03:00:00",
          "2014-01-04T04:00:00",
          "2014-01-04T05:00:00",
          "2014-01-04T06:00:00",
          "2014-01-04T07:00:00",
          "2014-01-04T08:00:00",
          "2014-01-04T09:00:00",
          "2014-01-04T10:00:00",
          "2014-01-04T11:00:00",
          "2014-01-04T12:00:00",
          "2014-01-04T13:00:00",
          "2014-01-04T14:00:00",
          "2014-01-04T15:00:00",
          "2014-01-04T16:00:00",
          "2014-01-04T17:00:00",
          "2014-01-04T18:00:00",
          "2014-01-04T19:00:00",
          "2014-01-04T20:00:00",
          "2014-01-04T21:00:00",
          "2014-01-04T22:00:00",
          "2014-01-04T23:00:00",
          "2014-01-05T00:00:00",
          "2014-01-05T01:00:00",
          "2014-01-05T02:00:00",
          "2014-01-05T03:00:00",
          "2014-01-05T04:00:00",
          "2014-01-05T05:00:00",
          "2014-01-05T06:00:00",
          "2014-01-05T07:00:00",
          "2014-01-05T08:00:00",
          "2014-01-05T09:00:00",
          "2014-01-05T10:00:00",
          "2014-01-05T11:00:00",
          "2014-01-05T12:00:00",
          "2014-01-05T13:00:00",
          "2014-01-05T14:00:00",
          "2014-01-05T15:00:00",
          "2014-01-05T16:00:00",
          "2014-01-05T17:00:00",
          "2014-01-05T18:00:00",
          "2014-01-05T19:00:00",
          "2014-01-05T20:00:00",
          "2014-01-05T21:00:00",
          "2014-01-05T22:00:00",
          "2014-01-05T23:00:00",
          "2014-01-06T00:00:00",
          "2014-01-06T01:00:00",
          "2014-01-06T02:00:00",
          "2014-01-06T03:00:00",
          "2014-01-06T04:00:00",
          "2014-01-06T05:00:00",
          "2014-01-06T06:00:00",
          "2014-01-06T07:00:00",
          "2014-01-06T08:00:00",
          "2014-01-06T09:00:00",
          "2014-01-06T10:00:00",
          "2014-01-06T11:00:00",
          "2014-01-06T12:00:00",
          "2014-01-06T13:00:00",
          "2014-01-06T14:00:00",
          "2014-01-06T15:00:00",
          "2014-01-06T16:00:00",
          "2014-01-06T17:00:00",
          "2014-01-06T18:00:00",
          "2014-01-06T19:00:00",
          "2014-01-06T20:00:00",
          "2014-01-06T21:00:00",
          "2014-01-06T22:00:00",
          "2014-01-06T23:00:00",
          "2014-01-07T00:00:00",
          "2014-01-07T01:00:00",
          "2014-01-07T02:00:00",
          "2014-01-07T03:00:00",
          "2014-01-07T04:00:00",
          "2014-01-07T05:00:00"
         ],
         "xaxis": "x",
         "y": [
          26,
          39,
          36,
          35,
          31,
          28,
          25,
          20,
          19,
          30,
          41,
          44,
          33,
          37,
          36,
          45,
          42,
          49,
          45,
          44,
          41,
          30,
          24,
          13,
          21,
          23,
          30,
          30,
          22,
          18,
          13,
          13,
          11,
          22,
          25,
          34,
          38,
          50,
          53,
          43,
          43,
          45,
          46,
          32,
          16,
          19,
          22,
          26,
          19,
          25,
          27,
          20,
          16,
          14,
          15,
          8,
          4,
          9,
          16,
          22,
          23,
          29,
          32,
          36,
          34,
          45,
          40,
          41,
          23,
          29,
          23,
          37,
          27,
          27,
          14,
          20,
          22,
          24,
          26,
          33,
          48,
          50,
          49,
          45,
          63,
          63,
          62,
          55,
          56,
          67,
          78,
          83,
          90,
          75,
          85,
          82,
          80,
          80,
          76,
          81,
          75,
          66,
          70,
          65,
          66,
          57,
          56,
          64,
          67,
          72,
          64,
          73,
          57,
          57,
          53,
          70,
          70,
          60,
          68,
          66,
          66,
          55,
          46,
          46,
          46,
          42,
          35,
          35,
          40,
          45,
          48,
          57,
          57,
          59,
          62,
          59,
          61,
          50,
          60,
          62,
          62,
          50,
          45,
          43,
          41,
          32,
          35,
          31,
          33,
          25
         ],
         "yaxis": "y"
        },
        {
         "hovertemplate": "type=pred_y<br>日期_時=%{x}<br>value=%{y}<extra></extra>",
         "legendgroup": "pred_y",
         "line": {
          "color": "#EF553B",
          "dash": "solid"
         },
         "marker": {
          "symbol": "circle"
         },
         "mode": "lines",
         "name": "pred_y",
         "orientation": "v",
         "showlegend": true,
         "type": "scatter",
         "x": [
          "2014-01-01T00:00:00",
          "2014-01-01T01:00:00",
          "2014-01-01T02:00:00",
          "2014-01-01T03:00:00",
          "2014-01-01T04:00:00",
          "2014-01-01T05:00:00",
          "2014-01-01T06:00:00",
          "2014-01-01T07:00:00",
          "2014-01-01T08:00:00",
          "2014-01-01T09:00:00",
          "2014-01-01T10:00:00",
          "2014-01-01T11:00:00",
          "2014-01-01T12:00:00",
          "2014-01-01T13:00:00",
          "2014-01-01T14:00:00",
          "2014-01-01T15:00:00",
          "2014-01-01T16:00:00",
          "2014-01-01T17:00:00",
          "2014-01-01T18:00:00",
          "2014-01-01T19:00:00",
          "2014-01-01T20:00:00",
          "2014-01-01T21:00:00",
          "2014-01-01T22:00:00",
          "2014-01-01T23:00:00",
          "2014-01-02T00:00:00",
          "2014-01-02T01:00:00",
          "2014-01-02T02:00:00",
          "2014-01-02T03:00:00",
          "2014-01-02T04:00:00",
          "2014-01-02T05:00:00",
          "2014-01-02T06:00:00",
          "2014-01-02T07:00:00",
          "2014-01-02T08:00:00",
          "2014-01-02T09:00:00",
          "2014-01-02T10:00:00",
          "2014-01-02T11:00:00",
          "2014-01-02T12:00:00",
          "2014-01-02T13:00:00",
          "2014-01-02T14:00:00",
          "2014-01-02T15:00:00",
          "2014-01-02T16:00:00",
          "2014-01-02T17:00:00",
          "2014-01-02T18:00:00",
          "2014-01-02T19:00:00",
          "2014-01-02T20:00:00",
          "2014-01-02T21:00:00",
          "2014-01-02T22:00:00",
          "2014-01-02T23:00:00",
          "2014-01-03T00:00:00",
          "2014-01-03T01:00:00",
          "2014-01-03T02:00:00",
          "2014-01-03T03:00:00",
          "2014-01-03T04:00:00",
          "2014-01-03T05:00:00",
          "2014-01-03T06:00:00",
          "2014-01-03T07:00:00",
          "2014-01-03T08:00:00",
          "2014-01-03T09:00:00",
          "2014-01-03T10:00:00",
          "2014-01-03T11:00:00",
          "2014-01-03T12:00:00",
          "2014-01-03T13:00:00",
          "2014-01-03T14:00:00",
          "2014-01-03T15:00:00",
          "2014-01-03T16:00:00",
          "2014-01-03T17:00:00",
          "2014-01-03T18:00:00",
          "2014-01-03T19:00:00",
          "2014-01-03T20:00:00",
          "2014-01-03T21:00:00",
          "2014-01-03T22:00:00",
          "2014-01-03T23:00:00",
          "2014-01-04T00:00:00",
          "2014-01-04T01:00:00",
          "2014-01-04T02:00:00",
          "2014-01-04T03:00:00",
          "2014-01-04T04:00:00",
          "2014-01-04T05:00:00",
          "2014-01-04T06:00:00",
          "2014-01-04T07:00:00",
          "2014-01-04T08:00:00",
          "2014-01-04T09:00:00",
          "2014-01-04T10:00:00",
          "2014-01-04T11:00:00",
          "2014-01-04T12:00:00",
          "2014-01-04T13:00:00",
          "2014-01-04T14:00:00",
          "2014-01-04T15:00:00",
          "2014-01-04T16:00:00",
          "2014-01-04T17:00:00",
          "2014-01-04T18:00:00",
          "2014-01-04T19:00:00",
          "2014-01-04T20:00:00",
          "2014-01-04T21:00:00",
          "2014-01-04T22:00:00",
          "2014-01-04T23:00:00",
          "2014-01-05T00:00:00",
          "2014-01-05T01:00:00",
          "2014-01-05T02:00:00",
          "2014-01-05T03:00:00",
          "2014-01-05T04:00:00",
          "2014-01-05T05:00:00",
          "2014-01-05T06:00:00",
          "2014-01-05T07:00:00",
          "2014-01-05T08:00:00",
          "2014-01-05T09:00:00",
          "2014-01-05T10:00:00",
          "2014-01-05T11:00:00",
          "2014-01-05T12:00:00",
          "2014-01-05T13:00:00",
          "2014-01-05T14:00:00",
          "2014-01-05T15:00:00",
          "2014-01-05T16:00:00",
          "2014-01-05T17:00:00",
          "2014-01-05T18:00:00",
          "2014-01-05T19:00:00",
          "2014-01-05T20:00:00",
          "2014-01-05T21:00:00",
          "2014-01-05T22:00:00",
          "2014-01-05T23:00:00",
          "2014-01-06T00:00:00",
          "2014-01-06T01:00:00",
          "2014-01-06T02:00:00",
          "2014-01-06T03:00:00",
          "2014-01-06T04:00:00",
          "2014-01-06T05:00:00",
          "2014-01-06T06:00:00",
          "2014-01-06T07:00:00",
          "2014-01-06T08:00:00",
          "2014-01-06T09:00:00",
          "2014-01-06T10:00:00",
          "2014-01-06T11:00:00",
          "2014-01-06T12:00:00",
          "2014-01-06T13:00:00",
          "2014-01-06T14:00:00",
          "2014-01-06T15:00:00",
          "2014-01-06T16:00:00",
          "2014-01-06T17:00:00",
          "2014-01-06T18:00:00",
          "2014-01-06T19:00:00",
          "2014-01-06T20:00:00",
          "2014-01-06T21:00:00",
          "2014-01-06T22:00:00",
          "2014-01-06T23:00:00",
          "2014-01-07T00:00:00",
          "2014-01-07T01:00:00",
          "2014-01-07T02:00:00",
          "2014-01-07T03:00:00",
          "2014-01-07T04:00:00",
          "2014-01-07T05:00:00"
         ],
         "xaxis": "x",
         "y": [
          26.04449830103865,
          64.10639466859347,
          11.969428976231354,
          23.70248146187269,
          91.58885803551284,
          8.987154623474565,
          21.932801872380097,
          13.557942532075531,
          30.045075743315234,
          2.064667594926777,
          12.593386830657215,
          39.83823424410953,
          38.28328416752519,
          16.896857151398972,
          25.654623586722543,
          4.057835392966053,
          17.64771387620052,
          7.2998724461014355,
          16.799030971496308,
          9.284316435735555,
          9.735883642670908,
          -0.010547172403699422,
          20.13603989386204,
          30.788359440933114,
          43.55718708854736,
          64.55154012461078,
          38.157189489270834,
          43.33581592300502,
          53.945526510723155,
          18.37152283175384,
          3.689732850367073,
          33.63496004633287,
          29.82998025934625,
          0.1664770179514717,
          29.908697178238583,
          63.850674451571145,
          15.74253553161733,
          51.85766762284685,
          37.55765291539993,
          7.641033207497808,
          33.08140759130804,
          23.44664093961761,
          45.78358584535503,
          15.133519487390835,
          24.679270240604403,
          8.392258604020986,
          7.125710521346653,
          48.556301732487796,
          37.11429446635625,
          61.91443537257865,
          30.482349279189165,
          38.41945246480833,
          53.15414710066414,
          48.526908667424614,
          4.119222347931222,
          23.37173725911944,
          25.95913617455144,
          0.007687810970550803,
          40.153204932914036,
          50.93013413997262,
          23.893346731409828,
          43.75668048584187,
          41.078201844199214,
          4.087624555119548,
          31.82624217090046,
          32.12183217228156,
          44.78815658075371,
          14.902260635721124,
          28.69584265945563,
          15.105306216319043,
          6.904238518877272,
          47.51244914222998,
          35.96870658303197,
          50.50315135837302,
          29.509615876125423,
          39.348594065576464,
          59.02413979865411,
          70.73388655816935,
          1.3630402132175854,
          21.200567999489405,
          20.942441522175567,
          -0.2797700392007584,
          38.9390953986462,
          52.06969617872058,
          20.985029452376327,
          40.79468843685706,
          36.73990902309838,
          7.015599549194949,
          37.198904332254095,
          29.083459442996947,
          30.12703163802827,
          12.815270523371217,
          30.936870161238208,
          10.017109344017006,
          10.90646507047023,
          55.62034355139813,
          45.28565549650229,
          58.1857358211084,
          16.731924542604215,
          43.52500065275032,
          45.94672697379566,
          70.0728598075721,
          17.907338845243057,
          21.090566969621534,
          19.085876894680165,
          0.4339961374983491,
          35.208708159225786,
          46.95008608813496,
          20.645382636689355,
          42.014830723898996,
          33.097218520670694,
          9.80418644006055,
          36.88810300986682,
          28.03538114233648,
          8.795070239464458,
          14.883830454558776,
          25.698604876490904,
          7.055648319106576,
          10.084951461029567,
          47.73587796656081,
          43.50520562649656,
          66.3449041085116,
          24.752281515073026,
          41.82074346515303,
          46.88546783030226,
          37.882417601366704,
          30.420329528705295,
          19.069227285067313,
          19.148719442362186,
          0.09772545218300785,
          31.00265988237309,
          53.18093851004209,
          16.429828831801277,
          42.39414646131135,
          27.841616692989916,
          4.6468872625997175,
          37.91289660976714,
          17.18869387093953,
          24.166837097081324,
          14.851906670904151,
          33.279876624281734,
          19.056131390130325,
          20.97587003808712,
          42.92377171064255,
          49.74959706918517,
          72.62432728660505,
          23.063508523113303,
          49.54067355121951,
          31.03596217641043,
          9.337978446677281
         ],
         "yaxis": "y"
        }
       ],
       "layout": {
        "legend": {
         "title": {
          "text": "type"
         },
         "tracegroupgap": 0
        },
        "margin": {
         "t": 60
        },
        "template": {
         "data": {
          "bar": [
           {
            "error_x": {
             "color": "#2a3f5f"
            },
            "error_y": {
             "color": "#2a3f5f"
            },
            "marker": {
             "line": {
              "color": "#E5ECF6",
              "width": 0.5
             },
             "pattern": {
              "fillmode": "overlay",
              "size": 10,
              "solidity": 0.2
             }
            },
            "type": "bar"
           }
          ],
          "barpolar": [
           {
            "marker": {
             "line": {
              "color": "#E5ECF6",
              "width": 0.5
             },
             "pattern": {
              "fillmode": "overlay",
              "size": 10,
              "solidity": 0.2
             }
            },
            "type": "barpolar"
           }
          ],
          "carpet": [
           {
            "aaxis": {
             "endlinecolor": "#2a3f5f",
             "gridcolor": "white",
             "linecolor": "white",
             "minorgridcolor": "white",
             "startlinecolor": "#2a3f5f"
            },
            "baxis": {
             "endlinecolor": "#2a3f5f",
             "gridcolor": "white",
             "linecolor": "white",
             "minorgridcolor": "white",
             "startlinecolor": "#2a3f5f"
            },
            "type": "carpet"
           }
          ],
          "choropleth": [
           {
            "colorbar": {
             "outlinewidth": 0,
             "ticks": ""
            },
            "type": "choropleth"
           }
          ],
          "contour": [
           {
            "colorbar": {
             "outlinewidth": 0,
             "ticks": ""
            },
            "colorscale": [
             [
              0,
              "#0d0887"
             ],
             [
              0.1111111111111111,
              "#46039f"
             ],
             [
              0.2222222222222222,
              "#7201a8"
             ],
             [
              0.3333333333333333,
              "#9c179e"
             ],
             [
              0.4444444444444444,
              "#bd3786"
             ],
             [
              0.5555555555555556,
              "#d8576b"
             ],
             [
              0.6666666666666666,
              "#ed7953"
             ],
             [
              0.7777777777777778,
              "#fb9f3a"
             ],
             [
              0.8888888888888888,
              "#fdca26"
             ],
             [
              1,
              "#f0f921"
             ]
            ],
            "type": "contour"
           }
          ],
          "contourcarpet": [
           {
            "colorbar": {
             "outlinewidth": 0,
             "ticks": ""
            },
            "type": "contourcarpet"
           }
          ],
          "heatmap": [
           {
            "colorbar": {
             "outlinewidth": 0,
             "ticks": ""
            },
            "colorscale": [
             [
              0,
              "#0d0887"
             ],
             [
              0.1111111111111111,
              "#46039f"
             ],
             [
              0.2222222222222222,
              "#7201a8"
             ],
             [
              0.3333333333333333,
              "#9c179e"
             ],
             [
              0.4444444444444444,
              "#bd3786"
             ],
             [
              0.5555555555555556,
              "#d8576b"
             ],
             [
              0.6666666666666666,
              "#ed7953"
             ],
             [
              0.7777777777777778,
              "#fb9f3a"
             ],
             [
              0.8888888888888888,
              "#fdca26"
             ],
             [
              1,
              "#f0f921"
             ]
            ],
            "type": "heatmap"
           }
          ],
          "heatmapgl": [
           {
            "colorbar": {
             "outlinewidth": 0,
             "ticks": ""
            },
            "colorscale": [
             [
              0,
              "#0d0887"
             ],
             [
              0.1111111111111111,
              "#46039f"
             ],
             [
              0.2222222222222222,
              "#7201a8"
             ],
             [
              0.3333333333333333,
              "#9c179e"
             ],
             [
              0.4444444444444444,
              "#bd3786"
             ],
             [
              0.5555555555555556,
              "#d8576b"
             ],
             [
              0.6666666666666666,
              "#ed7953"
             ],
             [
              0.7777777777777778,
              "#fb9f3a"
             ],
             [
              0.8888888888888888,
              "#fdca26"
             ],
             [
              1,
              "#f0f921"
             ]
            ],
            "type": "heatmapgl"
           }
          ],
          "histogram": [
           {
            "marker": {
             "pattern": {
              "fillmode": "overlay",
              "size": 10,
              "solidity": 0.2
             }
            },
            "type": "histogram"
           }
          ],
          "histogram2d": [
           {
            "colorbar": {
             "outlinewidth": 0,
             "ticks": ""
            },
            "colorscale": [
             [
              0,
              "#0d0887"
             ],
             [
              0.1111111111111111,
              "#46039f"
             ],
             [
              0.2222222222222222,
              "#7201a8"
             ],
             [
              0.3333333333333333,
              "#9c179e"
             ],
             [
              0.4444444444444444,
              "#bd3786"
             ],
             [
              0.5555555555555556,
              "#d8576b"
             ],
             [
              0.6666666666666666,
              "#ed7953"
             ],
             [
              0.7777777777777778,
              "#fb9f3a"
             ],
             [
              0.8888888888888888,
              "#fdca26"
             ],
             [
              1,
              "#f0f921"
             ]
            ],
            "type": "histogram2d"
           }
          ],
          "histogram2dcontour": [
           {
            "colorbar": {
             "outlinewidth": 0,
             "ticks": ""
            },
            "colorscale": [
             [
              0,
              "#0d0887"
             ],
             [
              0.1111111111111111,
              "#46039f"
             ],
             [
              0.2222222222222222,
              "#7201a8"
             ],
             [
              0.3333333333333333,
              "#9c179e"
             ],
             [
              0.4444444444444444,
              "#bd3786"
             ],
             [
              0.5555555555555556,
              "#d8576b"
             ],
             [
              0.6666666666666666,
              "#ed7953"
             ],
             [
              0.7777777777777778,
              "#fb9f3a"
             ],
             [
              0.8888888888888888,
              "#fdca26"
             ],
             [
              1,
              "#f0f921"
             ]
            ],
            "type": "histogram2dcontour"
           }
          ],
          "mesh3d": [
           {
            "colorbar": {
             "outlinewidth": 0,
             "ticks": ""
            },
            "type": "mesh3d"
           }
          ],
          "parcoords": [
           {
            "line": {
             "colorbar": {
              "outlinewidth": 0,
              "ticks": ""
             }
            },
            "type": "parcoords"
           }
          ],
          "pie": [
           {
            "automargin": true,
            "type": "pie"
           }
          ],
          "scatter": [
           {
            "fillpattern": {
             "fillmode": "overlay",
             "size": 10,
             "solidity": 0.2
            },
            "type": "scatter"
           }
          ],
          "scatter3d": [
           {
            "line": {
             "colorbar": {
              "outlinewidth": 0,
              "ticks": ""
             }
            },
            "marker": {
             "colorbar": {
              "outlinewidth": 0,
              "ticks": ""
             }
            },
            "type": "scatter3d"
           }
          ],
          "scattercarpet": [
           {
            "marker": {
             "colorbar": {
              "outlinewidth": 0,
              "ticks": ""
             }
            },
            "type": "scattercarpet"
           }
          ],
          "scattergeo": [
           {
            "marker": {
             "colorbar": {
              "outlinewidth": 0,
              "ticks": ""
             }
            },
            "type": "scattergeo"
           }
          ],
          "scattergl": [
           {
            "marker": {
             "colorbar": {
              "outlinewidth": 0,
              "ticks": ""
             }
            },
            "type": "scattergl"
           }
          ],
          "scattermapbox": [
           {
            "marker": {
             "colorbar": {
              "outlinewidth": 0,
              "ticks": ""
             }
            },
            "type": "scattermapbox"
           }
          ],
          "scatterpolar": [
           {
            "marker": {
             "colorbar": {
              "outlinewidth": 0,
              "ticks": ""
             }
            },
            "type": "scatterpolar"
           }
          ],
          "scatterpolargl": [
           {
            "marker": {
             "colorbar": {
              "outlinewidth": 0,
              "ticks": ""
             }
            },
            "type": "scatterpolargl"
           }
          ],
          "scatterternary": [
           {
            "marker": {
             "colorbar": {
              "outlinewidth": 0,
              "ticks": ""
             }
            },
            "type": "scatterternary"
           }
          ],
          "surface": [
           {
            "colorbar": {
             "outlinewidth": 0,
             "ticks": ""
            },
            "colorscale": [
             [
              0,
              "#0d0887"
             ],
             [
              0.1111111111111111,
              "#46039f"
             ],
             [
              0.2222222222222222,
              "#7201a8"
             ],
             [
              0.3333333333333333,
              "#9c179e"
             ],
             [
              0.4444444444444444,
              "#bd3786"
             ],
             [
              0.5555555555555556,
              "#d8576b"
             ],
             [
              0.6666666666666666,
              "#ed7953"
             ],
             [
              0.7777777777777778,
              "#fb9f3a"
             ],
             [
              0.8888888888888888,
              "#fdca26"
             ],
             [
              1,
              "#f0f921"
             ]
            ],
            "type": "surface"
           }
          ],
          "table": [
           {
            "cells": {
             "fill": {
              "color": "#EBF0F8"
             },
             "line": {
              "color": "white"
             }
            },
            "header": {
             "fill": {
              "color": "#C8D4E3"
             },
             "line": {
              "color": "white"
             }
            },
            "type": "table"
           }
          ]
         },
         "layout": {
          "annotationdefaults": {
           "arrowcolor": "#2a3f5f",
           "arrowhead": 0,
           "arrowwidth": 1
          },
          "autotypenumbers": "strict",
          "coloraxis": {
           "colorbar": {
            "outlinewidth": 0,
            "ticks": ""
           }
          },
          "colorscale": {
           "diverging": [
            [
             0,
             "#8e0152"
            ],
            [
             0.1,
             "#c51b7d"
            ],
            [
             0.2,
             "#de77ae"
            ],
            [
             0.3,
             "#f1b6da"
            ],
            [
             0.4,
             "#fde0ef"
            ],
            [
             0.5,
             "#f7f7f7"
            ],
            [
             0.6,
             "#e6f5d0"
            ],
            [
             0.7,
             "#b8e186"
            ],
            [
             0.8,
             "#7fbc41"
            ],
            [
             0.9,
             "#4d9221"
            ],
            [
             1,
             "#276419"
            ]
           ],
           "sequential": [
            [
             0,
             "#0d0887"
            ],
            [
             0.1111111111111111,
             "#46039f"
            ],
            [
             0.2222222222222222,
             "#7201a8"
            ],
            [
             0.3333333333333333,
             "#9c179e"
            ],
            [
             0.4444444444444444,
             "#bd3786"
            ],
            [
             0.5555555555555556,
             "#d8576b"
            ],
            [
             0.6666666666666666,
             "#ed7953"
            ],
            [
             0.7777777777777778,
             "#fb9f3a"
            ],
            [
             0.8888888888888888,
             "#fdca26"
            ],
            [
             1,
             "#f0f921"
            ]
           ],
           "sequentialminus": [
            [
             0,
             "#0d0887"
            ],
            [
             0.1111111111111111,
             "#46039f"
            ],
            [
             0.2222222222222222,
             "#7201a8"
            ],
            [
             0.3333333333333333,
             "#9c179e"
            ],
            [
             0.4444444444444444,
             "#bd3786"
            ],
            [
             0.5555555555555556,
             "#d8576b"
            ],
            [
             0.6666666666666666,
             "#ed7953"
            ],
            [
             0.7777777777777778,
             "#fb9f3a"
            ],
            [
             0.8888888888888888,
             "#fdca26"
            ],
            [
             1,
             "#f0f921"
            ]
           ]
          },
          "colorway": [
           "#636efa",
           "#EF553B",
           "#00cc96",
           "#ab63fa",
           "#FFA15A",
           "#19d3f3",
           "#FF6692",
           "#B6E880",
           "#FF97FF",
           "#FECB52"
          ],
          "font": {
           "color": "#2a3f5f"
          },
          "geo": {
           "bgcolor": "white",
           "lakecolor": "white",
           "landcolor": "#E5ECF6",
           "showlakes": true,
           "showland": true,
           "subunitcolor": "white"
          },
          "hoverlabel": {
           "align": "left"
          },
          "hovermode": "closest",
          "mapbox": {
           "style": "light"
          },
          "paper_bgcolor": "white",
          "plot_bgcolor": "#E5ECF6",
          "polar": {
           "angularaxis": {
            "gridcolor": "white",
            "linecolor": "white",
            "ticks": ""
           },
           "bgcolor": "#E5ECF6",
           "radialaxis": {
            "gridcolor": "white",
            "linecolor": "white",
            "ticks": ""
           }
          },
          "scene": {
           "xaxis": {
            "backgroundcolor": "#E5ECF6",
            "gridcolor": "white",
            "gridwidth": 2,
            "linecolor": "white",
            "showbackground": true,
            "ticks": "",
            "zerolinecolor": "white"
           },
           "yaxis": {
            "backgroundcolor": "#E5ECF6",
            "gridcolor": "white",
            "gridwidth": 2,
            "linecolor": "white",
            "showbackground": true,
            "ticks": "",
            "zerolinecolor": "white"
           },
           "zaxis": {
            "backgroundcolor": "#E5ECF6",
            "gridcolor": "white",
            "gridwidth": 2,
            "linecolor": "white",
            "showbackground": true,
            "ticks": "",
            "zerolinecolor": "white"
           }
          },
          "shapedefaults": {
           "line": {
            "color": "#2a3f5f"
           }
          },
          "ternary": {
           "aaxis": {
            "gridcolor": "white",
            "linecolor": "white",
            "ticks": ""
           },
           "baxis": {
            "gridcolor": "white",
            "linecolor": "white",
            "ticks": ""
           },
           "bgcolor": "#E5ECF6",
           "caxis": {
            "gridcolor": "white",
            "linecolor": "white",
            "ticks": ""
           }
          },
          "title": {
           "x": 0.05
          },
          "xaxis": {
           "automargin": true,
           "gridcolor": "white",
           "linecolor": "white",
           "ticks": "",
           "title": {
            "standoff": 15
           },
           "zerolinecolor": "white",
           "zerolinewidth": 2
          },
          "yaxis": {
           "automargin": true,
           "gridcolor": "white",
           "linecolor": "white",
           "ticks": "",
           "title": {
            "standoff": 15
           },
           "zerolinecolor": "white",
           "zerolinewidth": 2
          }
         }
        },
        "xaxis": {
         "anchor": "y",
         "domain": [
          0,
          1
         ],
         "title": {
          "text": "日期_時"
         }
        },
        "yaxis": {
         "anchor": "x",
         "domain": [
          0,
          1
         ],
         "title": {
          "text": "value"
         }
        }
       }
      }
     },
     "metadata": {},
     "output_type": "display_data"
    }
   ],
   "source": [
    "# plt_np = np.concatenate((y, y_pred), axis=1)\n",
    "# plt_np.shape\n",
    "\n",
    "plt_np = {\n",
    "    # \"ori_y\": y.reshape(5760),\n",
    "    \"pred_y\": y_pred.reshape(5760)\n",
    "}\n",
    "plt_np\n",
    "\n",
    "plt_df = train_data_fixed[['日期', '時', 'PM2.5']]\n",
    "plt_df['pred_y'] = y_pred\n",
    "\n",
    "# 將日期和時間列轉換為datetime類型\n",
    "plt_df['日期'] = pd.to_datetime(plt_df['日期'])\n",
    "plt_df['時'] = pd.to_timedelta(plt_df['時'], unit='h')\n",
    "\n",
    "# 創建新的日期＿時列\n",
    "plt_df['日期_時'] = plt_df['日期'] + plt_df['時']\n",
    "# 刪除原日期和時間列\n",
    "plt_df.drop(['日期', '時'], axis=1, inplace=True)\n",
    "\n",
    "# print(dtypes(plt_df['value']))\n",
    "\n",
    "p_df = pd.melt(plt_df, id_vars=['日期_時'], value_vars=['PM2.5', 'pred_y'], var_name='type', value_name='value')\n",
    "p_df[\"value\"] = p_df[\"value\"].astype(float)\n",
    "p_df = p_df.sort_values('日期_時')\n",
    "p_df\n",
    "# print(p_df.dtypes)\n",
    "\n",
    "\n",
    "# 显示图表\n",
    "fig = px.line(p_df.head(300), x='日期_時', y='value', color='type')\n",
    "fig.show()"
   ]
  },
  {
   "cell_type": "code",
   "execution_count": null,
   "metadata": {},
   "outputs": [
    {
     "name": "stdout",
     "output_type": "stream",
     "text": [
      "(2160, 1)\n"
     ]
    },
    {
     "data": {
      "text/plain": [
       "array([[33.20615956],\n",
       "       [17.12721033],\n",
       "       [47.91804462],\n",
       "       ...,\n",
       "       [12.93298731],\n",
       "       [29.19972606],\n",
       "       [ 1.38143146]])"
      ]
     },
     "execution_count": 112,
     "metadata": {},
     "output_type": "execute_result"
    }
   ],
   "source": [
    "y_test_pred = np.dot(x_test_np, w) + b\n",
    "print(y_test_pred.shape)\n",
    "y_test_pred\n"
   ]
  },
  {
   "attachments": {},
   "cell_type": "markdown",
   "metadata": {},
   "source": [
    "# ----"
   ]
  },
  {
   "cell_type": "code",
   "execution_count": null,
   "metadata": {},
   "outputs": [
    {
     "ename": "ValueError",
     "evalue": "X has 2 features, but LinearRegression is expecting 19 features as input.",
     "output_type": "error",
     "traceback": [
      "\u001b[0;31m---------------------------------------------------------------------------\u001b[0m",
      "\u001b[0;31mValueError\u001b[0m                                Traceback (most recent call last)",
      "\u001b[0;32m/var/folders/x_/wc5qj9052g5353gsl2kbq0pm0000gn/T/ipykernel_47550/2079665176.py\u001b[0m in \u001b[0;36m<module>\u001b[0;34m\u001b[0m\n\u001b[1;32m      4\u001b[0m \u001b[0mreg\u001b[0m\u001b[0;34m.\u001b[0m\u001b[0mcoef_\u001b[0m\u001b[0;34m\u001b[0m\u001b[0;34m\u001b[0m\u001b[0m\n\u001b[1;32m      5\u001b[0m \u001b[0mreg\u001b[0m\u001b[0;34m.\u001b[0m\u001b[0mintercept_\u001b[0m\u001b[0;34m\u001b[0m\u001b[0;34m\u001b[0m\u001b[0m\n\u001b[0;32m----> 6\u001b[0;31m \u001b[0mreg\u001b[0m\u001b[0;34m.\u001b[0m\u001b[0mpredict\u001b[0m\u001b[0;34m(\u001b[0m\u001b[0mnp\u001b[0m\u001b[0;34m.\u001b[0m\u001b[0marray\u001b[0m\u001b[0;34m(\u001b[0m\u001b[0;34m[\u001b[0m\u001b[0;34m[\u001b[0m\u001b[0;36m3\u001b[0m\u001b[0;34m,\u001b[0m \u001b[0;36m5\u001b[0m\u001b[0;34m]\u001b[0m\u001b[0;34m]\u001b[0m\u001b[0;34m)\u001b[0m\u001b[0;34m)\u001b[0m\u001b[0;34m\u001b[0m\u001b[0;34m\u001b[0m\u001b[0m\n\u001b[0m",
      "\u001b[0;32m/Library/Frameworks/Python.framework/Versions/3.7/lib/python3.7/site-packages/sklearn/linear_model/_base.py\u001b[0m in \u001b[0;36mpredict\u001b[0;34m(self, X)\u001b[0m\n\u001b[1;32m    360\u001b[0m             \u001b[0mReturns\u001b[0m \u001b[0mpredicted\u001b[0m \u001b[0mvalues\u001b[0m\u001b[0;34m.\u001b[0m\u001b[0;34m\u001b[0m\u001b[0;34m\u001b[0m\u001b[0m\n\u001b[1;32m    361\u001b[0m         \"\"\"\n\u001b[0;32m--> 362\u001b[0;31m         \u001b[0;32mreturn\u001b[0m \u001b[0mself\u001b[0m\u001b[0;34m.\u001b[0m\u001b[0m_decision_function\u001b[0m\u001b[0;34m(\u001b[0m\u001b[0mX\u001b[0m\u001b[0;34m)\u001b[0m\u001b[0;34m\u001b[0m\u001b[0;34m\u001b[0m\u001b[0m\n\u001b[0m\u001b[1;32m    363\u001b[0m \u001b[0;34m\u001b[0m\u001b[0m\n\u001b[1;32m    364\u001b[0m     \u001b[0m_preprocess_data\u001b[0m \u001b[0;34m=\u001b[0m \u001b[0mstaticmethod\u001b[0m\u001b[0;34m(\u001b[0m\u001b[0m_preprocess_data\u001b[0m\u001b[0;34m)\u001b[0m\u001b[0;34m\u001b[0m\u001b[0;34m\u001b[0m\u001b[0m\n",
      "\u001b[0;32m/Library/Frameworks/Python.framework/Versions/3.7/lib/python3.7/site-packages/sklearn/linear_model/_base.py\u001b[0m in \u001b[0;36m_decision_function\u001b[0;34m(self, X)\u001b[0m\n\u001b[1;32m    343\u001b[0m         \u001b[0mcheck_is_fitted\u001b[0m\u001b[0;34m(\u001b[0m\u001b[0mself\u001b[0m\u001b[0;34m)\u001b[0m\u001b[0;34m\u001b[0m\u001b[0;34m\u001b[0m\u001b[0m\n\u001b[1;32m    344\u001b[0m \u001b[0;34m\u001b[0m\u001b[0m\n\u001b[0;32m--> 345\u001b[0;31m         \u001b[0mX\u001b[0m \u001b[0;34m=\u001b[0m \u001b[0mself\u001b[0m\u001b[0;34m.\u001b[0m\u001b[0m_validate_data\u001b[0m\u001b[0;34m(\u001b[0m\u001b[0mX\u001b[0m\u001b[0;34m,\u001b[0m \u001b[0maccept_sparse\u001b[0m\u001b[0;34m=\u001b[0m\u001b[0;34m[\u001b[0m\u001b[0;34m\"csr\"\u001b[0m\u001b[0;34m,\u001b[0m \u001b[0;34m\"csc\"\u001b[0m\u001b[0;34m,\u001b[0m \u001b[0;34m\"coo\"\u001b[0m\u001b[0;34m]\u001b[0m\u001b[0;34m,\u001b[0m \u001b[0mreset\u001b[0m\u001b[0;34m=\u001b[0m\u001b[0;32mFalse\u001b[0m\u001b[0;34m)\u001b[0m\u001b[0;34m\u001b[0m\u001b[0;34m\u001b[0m\u001b[0m\n\u001b[0m\u001b[1;32m    346\u001b[0m         \u001b[0;32mreturn\u001b[0m \u001b[0msafe_sparse_dot\u001b[0m\u001b[0;34m(\u001b[0m\u001b[0mX\u001b[0m\u001b[0;34m,\u001b[0m \u001b[0mself\u001b[0m\u001b[0;34m.\u001b[0m\u001b[0mcoef_\u001b[0m\u001b[0;34m.\u001b[0m\u001b[0mT\u001b[0m\u001b[0;34m,\u001b[0m \u001b[0mdense_output\u001b[0m\u001b[0;34m=\u001b[0m\u001b[0;32mTrue\u001b[0m\u001b[0;34m)\u001b[0m \u001b[0;34m+\u001b[0m \u001b[0mself\u001b[0m\u001b[0;34m.\u001b[0m\u001b[0mintercept_\u001b[0m\u001b[0;34m\u001b[0m\u001b[0;34m\u001b[0m\u001b[0m\n\u001b[1;32m    347\u001b[0m \u001b[0;34m\u001b[0m\u001b[0m\n",
      "\u001b[0;32m/Library/Frameworks/Python.framework/Versions/3.7/lib/python3.7/site-packages/sklearn/base.py\u001b[0m in \u001b[0;36m_validate_data\u001b[0;34m(self, X, y, reset, validate_separately, **check_params)\u001b[0m\n\u001b[1;32m    583\u001b[0m \u001b[0;34m\u001b[0m\u001b[0m\n\u001b[1;32m    584\u001b[0m         \u001b[0;32mif\u001b[0m \u001b[0;32mnot\u001b[0m \u001b[0mno_val_X\u001b[0m \u001b[0;32mand\u001b[0m \u001b[0mcheck_params\u001b[0m\u001b[0;34m.\u001b[0m\u001b[0mget\u001b[0m\u001b[0;34m(\u001b[0m\u001b[0;34m\"ensure_2d\"\u001b[0m\u001b[0;34m,\u001b[0m \u001b[0;32mTrue\u001b[0m\u001b[0;34m)\u001b[0m\u001b[0;34m:\u001b[0m\u001b[0;34m\u001b[0m\u001b[0;34m\u001b[0m\u001b[0m\n\u001b[0;32m--> 585\u001b[0;31m             \u001b[0mself\u001b[0m\u001b[0;34m.\u001b[0m\u001b[0m_check_n_features\u001b[0m\u001b[0;34m(\u001b[0m\u001b[0mX\u001b[0m\u001b[0;34m,\u001b[0m \u001b[0mreset\u001b[0m\u001b[0;34m=\u001b[0m\u001b[0mreset\u001b[0m\u001b[0;34m)\u001b[0m\u001b[0;34m\u001b[0m\u001b[0;34m\u001b[0m\u001b[0m\n\u001b[0m\u001b[1;32m    586\u001b[0m \u001b[0;34m\u001b[0m\u001b[0m\n\u001b[1;32m    587\u001b[0m         \u001b[0;32mreturn\u001b[0m \u001b[0mout\u001b[0m\u001b[0;34m\u001b[0m\u001b[0;34m\u001b[0m\u001b[0m\n",
      "\u001b[0;32m/Library/Frameworks/Python.framework/Versions/3.7/lib/python3.7/site-packages/sklearn/base.py\u001b[0m in \u001b[0;36m_check_n_features\u001b[0;34m(self, X, reset)\u001b[0m\n\u001b[1;32m    399\u001b[0m         \u001b[0;32mif\u001b[0m \u001b[0mn_features\u001b[0m \u001b[0;34m!=\u001b[0m \u001b[0mself\u001b[0m\u001b[0;34m.\u001b[0m\u001b[0mn_features_in_\u001b[0m\u001b[0;34m:\u001b[0m\u001b[0;34m\u001b[0m\u001b[0;34m\u001b[0m\u001b[0m\n\u001b[1;32m    400\u001b[0m             raise ValueError(\n\u001b[0;32m--> 401\u001b[0;31m                 \u001b[0;34mf\"X has {n_features} features, but {self.__class__.__name__} \"\u001b[0m\u001b[0;34m\u001b[0m\u001b[0;34m\u001b[0m\u001b[0m\n\u001b[0m\u001b[1;32m    402\u001b[0m                 \u001b[0;34mf\"is expecting {self.n_features_in_} features as input.\"\u001b[0m\u001b[0;34m\u001b[0m\u001b[0;34m\u001b[0m\u001b[0m\n\u001b[1;32m    403\u001b[0m             )\n",
      "\u001b[0;31mValueError\u001b[0m: X has 2 features, but LinearRegression is expecting 19 features as input."
     ]
    }
   ],
   "source": [
    "from sklearn.linear_model import LinearRegression\n",
    "reg = LinearRegression().fit(X, y)\n",
    "reg.score(X, y)\n",
    "reg.coef_\n",
    "reg.intercept_\n",
    "reg.predict(np.array([[3, 5]]))"
   ]
  },
  {
   "cell_type": "code",
   "execution_count": null,
   "metadata": {},
   "outputs": [],
   "source": []
  }
 ],
 "metadata": {
  "kernelspec": {
   "display_name": "Python 3",
   "language": "python",
   "name": "python3"
  },
  "language_info": {
   "codemirror_mode": {
    "name": "ipython",
    "version": 3
   },
   "file_extension": ".py",
   "mimetype": "text/x-python",
   "name": "python",
   "nbconvert_exporter": "python",
   "pygments_lexer": "ipython3",
   "version": "3.7.9"
  },
  "orig_nbformat": 4
 },
 "nbformat": 4,
 "nbformat_minor": 2
}
